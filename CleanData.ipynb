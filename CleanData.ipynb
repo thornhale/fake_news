{
 "cells": [
  {
   "cell_type": "code",
   "execution_count": 2,
   "metadata": {},
   "outputs": [],
   "source": [
    "import pandas as pd\n",
    "fake_real_df = pd.read_csv('./fake_or_real_news.csv')"
   ]
  },
  {
   "cell_type": "code",
   "execution_count": 3,
   "metadata": {
    "collapsed": true
   },
   "outputs": [],
   "source": [
    "fake_real_df_clean = fake_real_df[['title','text','label']]"
   ]
  },
  {
   "cell_type": "code",
   "execution_count": 4,
   "metadata": {
    "collapsed": true
   },
   "outputs": [],
   "source": [
    "from sklearn.model_selection import StratifiedShuffleSplit\n",
    "\n",
    "split = StratifiedShuffleSplit(n_splits=1, test_size=0.2, random_state=42)\n",
    "for train_index, test_index in split.split(fake_real_df_clean, fake_real_df_clean[\"label\"]):\n",
    "    strat_train_set = fake_real_df_clean.loc[train_index]\n",
    "    strat_test_set = fake_real_df_clean.loc[test_index]"
   ]
  },
  {
   "cell_type": "code",
   "execution_count": 5,
   "metadata": {
    "collapsed": true
   },
   "outputs": [],
   "source": [
    "strat_fake_or_real_train = strat_train_set.copy()\n",
    "strat_fake_or_real_test  = strat_test_set.copy()"
   ]
  },
  {
   "cell_type": "code",
   "execution_count": 6,
   "metadata": {
    "collapsed": true
   },
   "outputs": [],
   "source": [
    "X_train = strat_fake_or_real_train.copy().drop('label', 1)\n",
    "y_train = strat_fake_or_real_train.copy()['label']\n",
    "X_test  = strat_fake_or_real_test.copy().drop('label', 1)\n",
    "y_test  = strat_fake_or_real_test.copy()['label']"
   ]
  },
  {
   "cell_type": "code",
   "execution_count": 7,
   "metadata": {
    "collapsed": true
   },
   "outputs": [],
   "source": [
    "import nltk\n",
    "from nltk.corpus import stopwords\n",
    "from nltk.stem.lancaster import LancasterStemmer\n",
    "\n",
    "def preprocessing(text):\n",
    "    tokens = [word for sent in nltk.sent_tokenize(text) for word in nltk.word_tokenize(sent)]\n",
    "    stop = stopwords.words('english')\n",
    "    tokens = [token for token in tokens if token not in stop]\n",
    "    tokens = [word for word in tokens if len(word) >= 3]\n",
    "    tokens = [word.lower() for word in tokens]\n",
    "    lcStem = LancasterStemmer()\n",
    "    tokens = [lcStem.stem(word) for word in tokens]\n",
    "    preprocessed_text = ' '.join(tokens)\n",
    "    return preprocessed_text"
   ]
  },
  {
   "cell_type": "code",
   "execution_count": 8,
   "metadata": {
    "collapsed": true
   },
   "outputs": [],
   "source": [
    "X_train_text_list  = list(X_train['text'])\n",
    "X_train_title_list = list(X_train['title'])\n",
    "X_test_text_list   = list(X_test['text'])\n",
    "X_test_title_list  = list(X_test['title'])"
   ]
  },
  {
   "cell_type": "code",
   "execution_count": 9,
   "metadata": {
    "collapsed": true
   },
   "outputs": [],
   "source": [
    "X_train_text_clean = [preprocessing(text) for text in X_train_text_list]\n",
    "X_train_title_clean = [preprocessing(text) for text in X_train_title_list]\n",
    "X_test_text_clean = [preprocessing(text) for text in X_test_text_list]\n",
    "X_test_title_clean = [preprocessing(text) for text in X_test_title_list]"
   ]
  },
  {
   "cell_type": "code",
   "execution_count": 11,
   "metadata": {},
   "outputs": [],
   "source": [
    "y_train_binary = [x=='REAL' for x in list(y_train)]\n",
    "y_test_binary = [x=='REAL' for x in list(y_test)]"
   ]
  },
  {
   "cell_type": "code",
   "execution_count": 12,
   "metadata": {
    "collapsed": true
   },
   "outputs": [],
   "source": [
    "'''\n",
    "The code above is all cleaning.\n",
    "I separated the two features Text and title. \n",
    "You can join them into a df\n",
    "if you want to use multiple features analysis.\n",
    "Below is the actual machine learning that I have done\n",
    "so far.\n",
    "'''\n",
    "from sklearn.feature_extraction.text import TfidfVectorizer\n",
    "vectorizer = TfidfVectorizer(min_df=2, ngram_range=(1,2), stop_words='english', strip_accents='unicode',norm=u'l2')\n",
    "\n",
    "X_train_tfidf = vectorizer.fit_transform(X_train_text_clean, y_train_binary)"
   ]
  },
  {
   "cell_type": "code",
   "execution_count": 13,
   "metadata": {
    "collapsed": true
   },
   "outputs": [],
   "source": [
    "from sklearn.naive_bayes import MultinomialNB\n",
    "clf = MultinomialNB().fit(X_train_tfidf, y_train_binary)"
   ]
  },
  {
   "cell_type": "code",
   "execution_count": 14,
   "metadata": {},
   "outputs": [
    {
     "data": {
      "text/plain": [
       "array([ 0.85024631,  0.82840237,  0.83810464,  0.84698914,  0.86080948])"
      ]
     },
     "execution_count": 14,
     "metadata": {},
     "output_type": "execute_result"
    }
   ],
   "source": [
    "from sklearn.model_selection import cross_val_score\n",
    "cross_val_score(clf, X_train_tfidf, y_train_binary, cv=5, scoring=\"accuracy\")"
   ]
  },
  {
   "cell_type": "code",
   "execution_count": 15,
   "metadata": {},
   "outputs": [
    {
     "data": {
      "text/plain": [
       "'\\nIt is now up to you to use the data as you wish or change\\nanything.\\nI am still going to work on improving the current model.\\n'"
      ]
     },
     "execution_count": 15,
     "metadata": {},
     "output_type": "execute_result"
    }
   ],
   "source": [
    "'''\n",
    "It is now up to you to use the data as you wish or change\n",
    "anything.\n",
    "I am still going to work on improving the current model.\n",
    "'''"
   ]
  },
  {
   "cell_type": "code",
   "execution_count": null,
   "metadata": {
    "collapsed": true
   },
   "outputs": [],
   "source": []
  }
 ],
 "metadata": {
  "kernelspec": {
   "display_name": "Python 3",
   "language": "python",
   "name": "python3"
  },
  "language_info": {
   "codemirror_mode": {
    "name": "ipython",
    "version": 3
   },
   "file_extension": ".py",
   "mimetype": "text/x-python",
   "name": "python",
   "nbconvert_exporter": "python",
   "pygments_lexer": "ipython3",
   "version": "3.5.3"
  }
 },
 "nbformat": 4,
 "nbformat_minor": 2
}
